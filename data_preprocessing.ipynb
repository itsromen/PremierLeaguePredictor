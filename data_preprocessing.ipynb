{
 "cells": [
  {
   "cell_type": "markdown",
   "id": "1ca91f6b",
   "metadata": {},
   "source": [
    "# Data Preprocessing for Premier League 2022/23 Dataset\n",
    "\n",
    "This notebook documents the steps used to clean and preprocess the Premier League dataset for the 2022/23 season.  \n",
    "The dataset (`Premier_League.csv`) contains match statistics including attendance, goals scored, possession percentages, and shot counts.\n",
    "\n",
    "**This notebook will cover:**\n",
    "1. Loading the dataset\n",
    "2. Cleaning missing data (especially in the attendance column)\n",
    "3. Creating a target variable for match outcomes\n",
    "4. Feature engineering (calculating differences in possession and shots)\n",
    "5. Selecting final features and saving the cleaned dataset\n",
    "\n",
    "Let's get started!"
   ]
  },
  {
   "cell_type": "code",
   "execution_count": null,
   "id": "89b4a31d",
   "metadata": {},
   "outputs": [],
   "source": [
    "import pandas as pd\n",
    "import numpy as np"
   ]
  },
  {
   "cell_type": "code",
   "execution_count": null,
   "id": "ed336db4",
   "metadata": {},
   "outputs": [],
   "source": [
    "# Load the dataset\n",
    "df = pd.read_csv('Premier_League.csv')\n",
    "\n",
    "# Display the first few rows to understand the data structure\n",
    "df.head()"
   ]
  },
  {
   "cell_type": "markdown",
   "id": "b89df6b8",
   "metadata": {},
   "source": [
    "## 1. Clean Missing Data\n",
    "\n",
    "In this step, we address missing or improperly formatted data:\n",
    "\n",
    "- **Attendance Column:**  \n",
    "  The attendance column might contain string representations of missing values (\"Nan\", \"NaN\", \"nan\"). We replace these with actual `np.nan`.\n",
    "\n",
    "- **Drop Missing Rows:**  \n",
    "  We drop rows where critical columns (i.e., 'stadium' and 'attendance') have missing values.\n",
    "\n",
    "- **Clean Attendance Values:**  \n",
    "  Remove commas from the attendance strings and convert them to integers."
   ]
  },
  {
   "cell_type": "code",
   "execution_count": null,
   "id": "936a67eb",
   "metadata": {},
   "outputs": [],
   "source": [
    "# Replace string representations of missing values in the attendance column with np.nan\n",
    "df['attendance'] = df['attendance'].replace(['Nan', 'NaN', 'nan'], np.nan)\n",
    "\n",
    "# Drop rows with missing values in critical columns: 'stadium' and 'attendance'\n",
    "df = df.dropna(subset=['stadium', 'attendance'])\n",
    "\n",
    "# Remove commas and convert the attendance column to integers\n",
    "df['attendance'] = df['attendance'].astype(str).str.replace(',', '').astype(int)"
   ]
  },
  {
   "cell_type": "code",
   "execution_count": null,
   "id": "b5c6f994",
   "metadata": {},
   "outputs": [],
   "source": [
    "# 2. Create target variable (match outcome)\n",
    "\n",
    "# Define conditions for match outcomes (Home Win, Away Win, Draw)\n",
    "conditions = [\n",
    "    df['Goals Home'] > df['Away Goals'],\n",
    "    df['Goals Home'] < df['Away Goals'],\n",
    "    df['Goals Home'] == df['Away Goals']\n",
    "]\n",
    "choices = ['Home Win', 'Away Win', 'Draw']\n",
    "\n",
    "# Create a new column 'outcome' based on these conditions\n",
    "df['outcome'] = np.select(conditions, choices)"
   ]
  },
  {
   "cell_type": "code",
   "execution_count": null,
   "id": "6a1a7213",
   "metadata": {},
   "outputs": [],
   "source": [
    "# 3. Feature engineering\n",
    "\n",
    "# Calculate the difference in possession percentages between the home and away teams\n",
    "df['possession_difference'] = df['home_possessions'] - df['away_possessions']\n",
    "\n",
    "# Calculate the difference in the number of shots taken by the home and away teams\n",
    "df['shot_difference'] = df['home_shots'] - df['away_shots']"
   ]
  },
  {
   "cell_type": "code",
   "execution_count": null,
   "id": "74847332",
   "metadata": {},
   "outputs": [],
   "source": [
    "# 4. Select final features\n",
    "\n",
    "# Define the columns we want to keep for further analysis\n",
    "final_columns = [\n",
    "    'possession_difference',\n",
    "    'shot_difference',\n",
    "    'attendance',\n",
    "    'outcome'\n",
    "]\n",
    "\n",
    "# Subset the DataFrame to keep only these final columns\n",
    "df = df[final_columns]"
   ]
  },
  {
   "cell_type": "code",
   "execution_count": null,
   "id": "5d768869",
   "metadata": {},
   "outputs": [],
   "source": [
    "# 5. Save the cleaned dataset\n",
    "df.to_csv('premier_league_cleaned.csv', index=False)\n",
    "\n",
    "# Print confirmation and display some summary information\n",
    "print(\"Dataset cleaned successfully!\")\n",
    "print(f\"Final dataset shape: {df.shape}\")\n",
    "print(\"Outcome distribution:\")\n",
    "print(df['outcome'].value_counts())"
   ]
  },
  {
   "cell_type": "markdown",
   "id": "0322dfb3",
   "metadata": {},
   "source": [
    "## Conclusion\n",
    "\n",
    "In this notebook, we have:\n",
    "- Loaded the `Premier_League.csv` dataset.\n",
    "- Performed data cleaning, including handling missing values and fixing the attendance column.\n",
    "- Created a target variable for match outcomes.\n",
    "- Engineered new features (possession and shot differences).\n",
    "- Selected final features and saved the cleaned data.\n",
    "\n",
    "**Next Steps:**  \n",
    "You can use this cleaned dataset to perform further exploratory data analysis, build predictive models, or develop visualizations that provide insights into team performances over the season."
   ]
  }
 ],
 "metadata": {
  "language_info": {
   "name": "python"
  }
 },
 "nbformat": 4,
 "nbformat_minor": 5
}
